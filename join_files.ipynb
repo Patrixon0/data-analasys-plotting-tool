{
 "cells": [
  {
   "cell_type": "code",
   "execution_count": 1,
   "id": "d3024989-d67c-435e-b690-cae4f4fbd3f2",
   "metadata": {
    "tags": []
   },
   "outputs": [],
   "source": [
    "def joyn_files(file_a, file_b, file_name):\n",
    "    # Header für die neue Datei definieren\n",
    "    header = \"# werta\\terra\\twertb\\terrb\\n\"\n",
    "    \n",
    "    # Datei zum Schreiben öffnen (file_name mit .txt-Endung)\n",
    "    output_file = f\"{file_name}.txt\"\n",
    "    \n",
    "    with open(file_a, 'r') as fa, open(file_b, 'r') as fb, open(output_file, 'w') as fout:\n",
    "        # Schreibe den Header in die Ausgabe-Datei\n",
    "        fout.write(header)\n",
    "        \n",
    "        # Überspringe die Header der Eingabedateien und iteriere über die Zeilen\n",
    "        next(fa)  # Header von file_a überspringen\n",
    "        next(fb)  # Header von file_b überspringen\n",
    "        \n",
    "        # Iteriere über die Datenzeilen beider Dateien gleichzeitig\n",
    "        for line_a, line_b in zip(fa, fb):\n",
    "            # Zeilen von beiden Dateien bereinigen und trennen\n",
    "            data_a = line_a.strip()  # Entferne Leerzeichen und Zeilenumbruch\n",
    "            data_b = line_b.strip()\n",
    "            \n",
    "            # Verbinde die Daten spaltenweise und schreibe sie in die Ausgabe-Datei\n",
    "            fout.write(f\"{data_a}\\t{data_b}\\n\")\n",
    "    \n",
    "    print(f\"Dateien wurden erfolgreich kombiniert und in '{output_file}' gespeichert.\")\n",
    "\n",
    "# Beispielaufruf der Funktion:\n",
    "# joyn_files(\"a.txt\", \"b.txt\", \"c\")"
   ]
  },
  {
   "cell_type": "code",
   "execution_count": 7,
   "id": "95c5008e-a6bc-4f71-a02a-04637ccf3e69",
   "metadata": {
    "tags": []
   },
   "outputs": [
    {
     "name": "stdout",
     "output_type": "stream",
     "text": [
      "Dateien wurden erfolgreich kombiniert und in '232/a_Spannung_gegen_Strom.txt' gespeichert.\n"
     ]
    }
   ],
   "source": [
    "joyn_files(\"232/a_Mess_Spannung_results.txt\", \"232/a_Mess_Strom_results.txt\", \"232/a_Spannung_gegen_Strom\")"
   ]
  }
 ],
 "metadata": {
  "kernelspec": {
   "display_name": "Python 3",
   "language": "python",
   "name": "python3"
  },
  "language_info": {
   "codemirror_mode": {
    "name": "ipython",
    "version": 3
   },
   "file_extension": ".py",
   "mimetype": "text/x-python",
   "name": "python",
   "nbconvert_exporter": "python",
   "pygments_lexer": "ipython3",
   "version": "3.11.2"
  }
 },
 "nbformat": 4,
 "nbformat_minor": 5
}
