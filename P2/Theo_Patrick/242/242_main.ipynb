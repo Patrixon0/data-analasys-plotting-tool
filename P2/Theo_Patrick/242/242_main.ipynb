{
 "cells": [
  {
   "cell_type": "code",
   "execution_count": null,
   "metadata": {},
   "outputs": [
    {
     "ename": "ModuleNotFoundError",
     "evalue": "No module named 'P2'",
     "output_type": "error",
     "traceback": [
      "\u001b[1;31m---------------------------------------------------------------------------\u001b[0m",
      "\u001b[1;31mModuleNotFoundError\u001b[0m                       Traceback (most recent call last)",
      "Cell \u001b[1;32mIn[39], line 1\u001b[0m\n\u001b[1;32m----> 1\u001b[0m \u001b[38;5;28;01mfrom\u001b[39;00m \u001b[38;5;21;01mP2\u001b[39;00m\u001b[38;5;21;01m.\u001b[39;00m\u001b[38;5;21;01mgauss_fehlerfortpflanzung\u001b[39;00m \u001b[38;5;28;01mimport\u001b[39;00m evaluate_gaussian_error\n\u001b[0;32m      2\u001b[0m \u001b[38;5;28;01mfrom\u001b[39;00m \u001b[38;5;21;01mP2\u001b[39;00m\u001b[38;5;21;01m.\u001b[39;00m\u001b[38;5;21;01mgeraden_fit\u001b[39;00m \u001b[38;5;28;01mimport\u001b[39;00m geraden_fit\n\u001b[0;32m      3\u001b[0m \u001b[38;5;28;01mfrom\u001b[39;00m \u001b[38;5;21;01mP2\u001b[39;00m\u001b[38;5;21;01m.\u001b[39;00m\u001b[38;5;21;01mscientific_error_rounder\u001b[39;00m \u001b[38;5;28;01mimport\u001b[39;00m runden_und_speichern\n",
      "\u001b[1;31mModuleNotFoundError\u001b[0m: No module named 'P2'"
     ]
    }
   ],
   "source": [
    "from P2.gauss_fehlerfortpflanzung import evaluate_gaussian_error\n",
    "from P2.geraden_fit import geraden_fit\n",
    "from P2.scientific_error_rounder import runden_und_speichern\n"
   ]
  }
 ],
 "metadata": {
  "kernelspec": {
   "display_name": "Python 3",
   "language": "python",
   "name": "python3"
  },
  "language_info": {
   "codemirror_mode": {
    "name": "ipython",
    "version": 3
   },
   "file_extension": ".py",
   "mimetype": "text/x-python",
   "name": "python",
   "nbconvert_exporter": "python",
   "pygments_lexer": "ipython3",
   "version": "3.11.2"
  }
 },
 "nbformat": 4,
 "nbformat_minor": 2
}
