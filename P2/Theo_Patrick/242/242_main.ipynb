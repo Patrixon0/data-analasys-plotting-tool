{
 "cells": [
  {
   "cell_type": "code",
   "execution_count": 7,
   "metadata": {},
   "outputs": [],
   "source": [
    "#⠀⠀⠀⠀⠀⠀⠀⠀⠀⠀⠀⠀⠀⠀⠀⠀⠀ ⠀⢀⡔⣻⠁⠀⢀⣀⣀⡀⠀⠀⠀⠀⠀⠀⠀⠀\n",
    "#⠀⠀⠀⠀⢀⣾⠳⢶⣦⠤⣀⠀⠀⠀⠀⠀⠀⠀⣾⢀⡇⡴⠋⣀⠴⣊⣩⣤⠶⠞⢹⣄⠀⠀⠀\n",
    "#⠀⠀⠀⠀⢸⠀⠀⢠⠈⠙⠢⣙⠲⢤⠤⠤⠀⠒⠳⡄⣿⢀⠾⠓⢋⠅⠛⠉⠉⠝⠀⠼⠀⠀⠀\n",
    "#⠀⠀⠀⠀⢸⠀⢰⡀⠁⠀⠀⠈⠑⠦⡀⠀⠀⠀⠀⠈⠺⢿⣂⠀⠉⠐⠲⡤⣄⢉⠝⢸⠀⠀⠀\n",
    "#⠀⠀⠀⠀⢸⠀⢀⡹⠆⠀⠀⠀⠀⡠⠃⠀⠀⠀⠀⠀⠀⠀⠉⠙⠲⣄⠀⠀⠙⣷⡄⢸⠀⠀⠀\n",
    "#⠀⠀⠀⠀⢸⡀⠙⠂⢠⠀⠀⡠⠊⠀⠀⠀⠀⢠⠀⠀⠀⠀⠘⠄⠀⠀⠑⢦⣔⠀⢡⡸⠀⠀⠀\n",
    "#⠀⠀⠀⠀⢀⣧⠀⢀⡧⣴⠯⡀⠀⠀⠀⠀⠀⡎⠀⠀⠀⠀⠀⢸⡠⠔⠈⠁⠙⡗⡤⣷⡀⠀⠀\n",
    "#⠀⠀⠀⠀⡜⠈⠚⠁⣬⠓⠒⢼⠅⠀⠀⠀⣠⡇⠀⠀⠀⠀⠀⠀⣧⠀⠀⠀⡀⢹⠀⠸⡄⠀⠀\n",
    "#⠀⠀⠀⡸⠀⠀⠀⠘⢸⢀⠐⢃⠀⠀⠀⡰⠋⡇⠀⠀⠀⢠⠀⠀⡿⣆⠀⠀⣧⡈⡇⠆⢻⠀⠀\n",
    "#⠀⠀⢰⠃⠀⠀⢀⡇⠼⠉⠀⢸⡤⠤⣶⡖⠒⠺⢄⡀⢀⠎⡆⣸⣥⠬⠧⢴⣿⠉⠸⡀⣇⠀\n",
    "#⠀⠀⠇⠀⠀⠀⢸⠀⠀⠀⣰⠋⠀⢸⣿⣿⠀⠀⠀⠙⢧⡴⢹⣿⣿⠀⠀⠀⠈⣆⠀⠀⢧⢹⡄\n",
    "#⠀⣸⠀⢠⠀⠀⢸⡀⠀⠀⢻⡀⠀⢸⣿⣿⠀⠀⠀⠀⡼⣇⢸⣿⣿⠀⠀⠀⢀⠏⠀⠀⢸⠀⠇\n",
    "#⠀⠓⠈⢃⠀⠀⠀⡇⠀⠀⠀⣗⠦⣀⣿⡇⠀⣀⠤⠊⠀⠈⠺⢿⣃⣀⠤⠔⢸⠀⠀⠀⣼⠑⢼\n",
    "#⠀⠀⠀⢸⡀⣀⣾⣷⡀⠀⢸⣯⣦⡀⠀⠀⠀⢇⣀⣀⠐⠦⣀⠘⠀⠀⢀⣰⣿⣄⠀⠀⡟⠀⠀\n",
    "#⠀⠀⠀⠀⠛⠁⣿⣿⣧⠀⣿⣿⣿⣿⣦⣀⠀⠀⠀⠀⠀⠀⠀⣀⣠⣴⣿⣿⡿⠈⠢⣼⡇⠀⠀\n",
    "#⠀⠀⠀⠀⠀⠀⠈⠁⠈⠻⠈⢻⡿⠉⣿⠿⠛⡇⠒⠒⢲⠺⢿⣿⣿⠉⠻⡿⠁⠀⠀⠈⠁⠀⠀\n",
    "#⢀⠤⠒⠦⡀⠀⠀⠀⠀⠀⠀⠀⢀⠞⠉⠆⠀⠀⠉⠉⠉⠀⠀⡝⣍⠀⠀⠀⠀⠀⠀⠀⠀⠀⠀\n",
    "#⡎⠀⠀⠀⡇⠀⠀⠀⠀⠀⠀⡰⠋⠀⠀⢸⠀⠀⠀⠀⠀⠀⠀⢡⠈⢦⠀⠀⠀⠀⠀⠀⠀⠀⠀\n",
    "#⡇⠀⠀⠸⠁⠀⠀⠀⠀⢀⠜⠁⠀⠀⠀⡸⠀⠀⠀⠀⠀⠀⠀⠘⡄⠈⢳⡀⠀⠀⠀⠀⠀⠀⠀\n",
    "#⡇⠀⠀⢠⠀⠀⠀⠀⠠⣯⣀⠀⠀⠀⡰⡇⠀⠀⠀⠀⠀⠀⠀⠀⢣⠀⢀⡦⠤⢄⡀⠀⠀⠀⠀\n",
    "#⢱⡀⠀⠈⠳⢤⣠⠖⠋⠛⠛⢷⣄⢠⣷⠁⠀⠀⠀⠀⠀⠀⠀⠀⠘⡾⢳⠃⠀⠘⢇⠀⠀⠀\n",
    "#⠀⠙⢦⡀⠀⢠⠁⠀⠀⠀⠀⠀⠙⣿⣏⣀⠀⠀⠀⠀⠀⠀⠀⣀⣴⣧⡃⠀⠀⠀ ⠀⣸⠀⠀⠀\n",
    "#⠀⠀⠀⠈⠉⢺⣄⠀⠀⠀⠀⠀⠀⣿⣿⣿⣿⣿⣿⣿⣿⣿⣿⣿⣿⣿⣗⣤⣀⣠⡾⠃⠀⠀⠀\n",
    "#⠀⠀⠀⠀⠀⠀⠣⢅⡤⣀⣀⣠⣼⣿⣿⣿⣿⣿⣿⣿⣿⣿⣿⣿⣿⣿⣷⠉⠉⠉⠀⠀⠀⠀⠀\n",
    "#⠀⠀⠀⠀⠀⠀⠀⠀⠉⠉⠉⠁⠀⠉⣿⣿⣿⣿⣿⡿⠻⣿⣿⣿⣿⠛⠉⠀⠀⠀⠀⠀⠀⠀⠀\n",
    "#⠀⠀⠀⠀⠀⠀⠀⠀⠀⠀⠀⠀⠀⣸⣿⣿⣿⠀⠀⠀⠀⣿⣿⣿⡿⠀⠀⠀⠀⠀⠀⠀⠀⠀⠀\n",
    "#⠀⠀⠀⠀⠀⠀⠀⠀⠀⠀⠀⠀⣴⣿⣿⣿⣟⠀⠀⢠⣿⣿⣿⣿⣧⠀⠀⠀⠀⠀⠀⠀⠀⠀⠀\n",
    "#⠀⠀⠀⠀⠀⠀⠀⠀⠀⠀⠀⢰⣿⣿⣿⣿⣿⠀⠀⢸⣿⣿⣿⣿⣿⠀⠀⠀⠀⠀⠀⠀⠀⠀⠀\n",
    "#⠀⠀⠀⠀⠀⠀⠀⠀⠀⠀⠀⢸⣿⣿⣿⣿⡏⠀⠀⢸⣿⣿⣿⣿⣿⡀⠀⠀⠀⠀⠀⠀⠀⠀⠀\n",
    "#⠀⠀⠀⠀⠀⠀⠀⠀⠀⠀⢠⣿⣿⣿⣿⣿⠀⠀⠀⢺⣿⣿⣿⣿⣿⣿⣷⠀⠀⠀⠀⠀⠀⠀⠀\n",
    "#⠀⠀⠀⠀⠀⠀⠀⠀⠀⠀⣿⣿⣿⣿⣿⣿⠀⠀⠀⠀⠈⠉⠻⣿⣿⣿⠟⠀⠀⠀⠀⠀⠀⠀⠀\n",
    "#⠀⠀⠀⠀⠀⠀⠀⠀⠀⠀⠘⢿⣿⣿⣿⠏⠀⠀⠀⠀⠀⠀⠀⠀\n",
    "# \n",
    "\n",
    "#Theo halli=i\n",
    "\n",
    "import sys\n",
    "import os\n",
    "import sympy as sp\n",
    "import numpy as np\n",
    "# tater\n",
    "# Add the correct path to the P2 folder\n",
    "sys.path.append(os.path.abspath(os.path.join(os.getcwd(), '..', '..')))\n",
    "\n",
    "from gauss_fehlerfortpflanzung import evaluate_gaussian_error\n",
    "from geraden_fit import geraden_fit\n",
    "from scientific_error_rounder import runden_und_speichern\n",
    "from mean_calc_w_err import err_weighted_mean\n",
    "\n"
   ]
  },
  {
   "cell_type": "code",
   "execution_count": 3,
   "metadata": {},
   "outputs": [
    {
     "name": "stdout",
     "output_type": "stream",
     "text": [
      "sqrt((del_I)**2 + (0)**2 + (0)**2 + (0)**2)\n",
      "sqrt((0)**2 + (del_U)**2 + (0)**2 + (0)**2)\n",
      "sqrt((0)**2 + (0)**2 + (del_R1_roh/200)**2 + (0)**2)\n",
      "sqrt((0)**2 + (0)**2 + (0)**2 + (del_R2_roh/200)**2)\n",
      "Zeile 1: [1.16, 0.01, 110.0, 1.0, 0.04125, 0.0025, 0.04025, 0.0025]\n",
      "Zeile 2: [1.16, 0.01, 125.0, 1.0, 0.0435, 0.0025, 0.0415, 0.0025]\n",
      "Zeile 3: [1.16, 0.01, 144.0, 1.0, 0.04625, 0.0025, 0.04475, 0.0025]\n",
      "Zeile 4: [1.16, 0.01, 168.0, 1.0, 0.04925, 0.0025, 0.04725, 0.0025]\n",
      "Zeile 5: [1.16, 0.01, 185.0, 1.0, 0.05275, 0.0025, 0.0495, 0.0025]\n",
      "Zeile 6: [1.16, 0.01, 210.0, 1.0, 0.0565, 0.0025, 0.05275, 0.0025]\n",
      "Zeile 7: [1.16, 0.01, 230.0, 1.0, 0.058, 0.0025, 0.05575, 0.0025]\n",
      "Zeile 8: [1.16, 0.01, 250.0, 1.0, 0.062, 0.0025, 0.05925, 0.0025]\n",
      "Zeile 9: [0.86, 0.01, 80.0, 1.0, 0.047, 0.0025, 0.044, 0.0025]\n",
      "Zeile 10: [1.14, 0.01, 59.0, 1.0, 0.03075, 0.0025, 0.02925, 0.0025]\n",
      "Auswertung abgeschlossen. Ergebnisse wurden in 'a_mess_nul.txt' gespeichert.\n"
     ]
    }
   ],
   "source": [
    "### Radien anpassen ###\n",
    "\n",
    "var_names=[I, U, R1_roh, R2_roh]=sp.symbols('I U R1_roh R2_roh')\n",
    "formula_list=[\n",
    "    I,\n",
    "    U,\n",
    "    (R1_roh - 3.05)/200,\n",
    "    (R2_roh - 3.05)/200\n",
    "    ]\n",
    "evaluate_gaussian_error('a_mess.txt',formulas=formula_list, variables=var_names, result_length=10,result_names=['I', 'U', 'R1', 'R2'], output_file_suffix= 'nul')"
   ]
  },
  {
   "cell_type": "code",
   "execution_count": 6,
   "metadata": {},
   "outputs": [
    {
     "name": "stdout",
     "output_type": "stream",
     "text": [
      "sqrt((0.000779785184523035*del_I*(-R1 + R2)/(R1 + R2))**2 + (0)**2 + (del_R1*(-0.000779785184523035*I*(-R1 + R2)/(R1 + R2)**2 - 0.000779785184523035*I/(R1 + R2)))**2 + (del_R2*(-0.000779785184523035*I*(-R1 + R2)/(R1 + R2)**2 + 0.000779785184523035*I/(R1 + R2)))**2)\n",
      "Zeile 1: [-1.10988e-05, 3.92432e-05]\n",
      "Zeile 2: [-2.12835e-05, 3.76352e-05]\n",
      "Zeile 3: [-1.49102e-05, 3.51486e-05]\n",
      "Zeile 4: [-1.87472e-05, 3.31481e-05]\n",
      "Zeile 5: [-2.8751e-05, 3.12937e-05]\n",
      "Zeile 6: [-3.10487e-05, 2.92914e-05]\n",
      "Zeile 7: [-1.78922e-05, 2.81208e-05]\n",
      "Zeile 8: [-2.05156e-05, 2.63832e-05]\n",
      "Zeile 9: [-2.21082e-05, 2.60702e-05]\n",
      "Zeile 10: [-2.22239e-05, 5.23989e-05]\n",
      "Auswertung abgeschlossen. Ergebnisse wurden in 'a_mess_nul_Be.txt' gespeichert.\n"
     ]
    }
   ],
   "source": [
    "### Erdmagnetfeld bestimmen: ###\n",
    "\n",
    "# F = e (v * (B_s +- B_e))\n",
    "# -> a * (B_s +- B_e) = b * (1/r)\n",
    "# -> B_e = ((4/5)**(3/2)) * nue * (n / R_s) * I * ((R2 - R1) / (R2 + R1)) \n",
    "# &-> e/m = (2U) / ((r**2) * ((B_s + B_e)**2) )\n",
    "\n",
    "\n",
    "nue, n, R_s = 4 * np.pi * 10**(-7), 130, 0.15 # Variablen\n",
    "var_names=[I, U, R1, R2]=sp.symbols('I U R1 R2')\n",
    "formula_list=[(0.716) * nue * (n / R_s) * I * ((R2 - R1) / (R2 + R1))]\n",
    "        #2*U / ((R1**2) * ((I * ((R2 - R1) / (R2 + R1))**2)))) # B_e\n",
    "evaluate_gaussian_error('a_mess_nul.txt',formulas=formula_list, variables=var_names, result_length=10,result_names=['B_e'], output_file_suffix= 'Be')\n"
   ]
  },
  {
   "cell_type": "code",
   "execution_count": 8,
   "metadata": {},
   "outputs": [
    {
     "name": "stdout",
     "output_type": "stream",
     "text": [
      "Gewichteter Mittelwert:  -2.139481752880738e-05  Fehler:  1.0102406964707843e-05\n"
     ]
    }
   ],
   "source": [
    "### Gewichteten Mittelwert des Erdmagnetfelds berechnen ###\n",
    "\n",
    "mean = err_weighted_mean('a_mess_nul_Be.txt')\n",
    "print('Gewichteter Mittelwert: ', mean[0], ' Fehler: ', mean[1])"
   ]
  }
 ],
 "metadata": {
  "kernelspec": {
   "display_name": "Python 3",
   "language": "python",
   "name": "python3"
  },
  "language_info": {
   "codemirror_mode": {
    "name": "ipython",
    "version": 3
   },
   "file_extension": ".py",
   "mimetype": "text/x-python",
   "name": "python",
   "nbconvert_exporter": "python",
   "pygments_lexer": "ipython3",
   "version": "3.11.2"
  }
 },
 "nbformat": 4,
 "nbformat_minor": 2
}
