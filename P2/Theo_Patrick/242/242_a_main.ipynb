{
 "cells": [
  {
   "cell_type": "code",
   "execution_count": 9,
   "metadata": {},
   "outputs": [],
   "source": [
    "#⠀⠀⠀⠀⠀⠀⠀⠀⠀⠀⠀⠀⠀⠀⠀⠀⠀ ⠀⢀⡔⣻⠁⠀⢀⣀⣀⡀⠀⠀⠀⠀⠀⠀⠀⠀\n",
    "#⠀⠀⠀⠀⢀⣾⠳⢶⣦⠤⣀⠀⠀⠀⠀⠀⠀⠀⣾⢀⡇⡴⠋⣀⠴⣊⣩⣤⠶⠞⢹⣄⠀⠀⠀\n",
    "#⠀⠀⠀⠀⢸⠀⠀⢠⠈⠙⠢⣙⠲⢤⠤⠤⠀⠒⠳⡄⣿⢀⠾⠓⢋⠅⠛⠉⠉⠝⠀⠼⠀⠀⠀\n",
    "#⠀⠀⠀⠀⢸⠀⢰⡀⠁⠀⠀⠈⠑⠦⡀⠀⠀⠀⠀⠈⠺⢿⣂⠀⠉⠐⠲⡤⣄⢉⠝⢸⠀⠀⠀\n",
    "#⠀⠀⠀⠀⢸⠀⢀⡹⠆⠀⠀⠀⠀⡠⠃⠀⠀⠀⠀⠀⠀⠀⠉⠙⠲⣄⠀⠀⠙⣷⡄⢸⠀⠀⠀\n",
    "#⠀⠀⠀⠀⢸⡀⠙⠂⢠⠀⠀⡠⠊⠀⠀⠀⠀⢠⠀⠀⠀⠀⠘⠄⠀⠀⠑⢦⣔⠀⢡⡸⠀⠀⠀\n",
    "#⠀⠀⠀⠀⢀⣧⠀⢀⡧⣴⠯⡀⠀⠀⠀⠀⠀⡎⠀⠀⠀⠀⠀⢸⡠⠔⠈⠁⠙⡗⡤⣷⡀⠀⠀\n",
    "#⠀⠀⠀⠀⡜⠈⠚⠁⣬⠓⠒⢼⠅⠀⠀⠀⣠⡇⠀⠀⠀⠀⠀⠀⣧⠀⠀⠀⡀⢹⠀⠸⡄⠀⠀\n",
    "#⠀⠀⠀⡸⠀⠀⠀⠘⢸⢀⠐⢃⠀⠀⠀⡰⠋⡇⠀⠀⠀⢠⠀⠀⡿⣆⠀⠀⣧⡈⡇⠆⢻⠀⠀\n",
    "#⠀⠀⢰⠃⠀⠀⢀⡇⠼⠉⠀⢸⡤⠤⣶⡖⠒⠺⢄⡀⢀⠎⡆⣸⣥⠬⠧⢴⣿⠉⠸⡀⣇⠀\n",
    "#⠀⠀⠇⠀⠀⠀⢸⠀⠀⠀⣰⠋⠀⢸⣿⣿⠀⠀⠀⠙⢧⡴⢹⣿⣿⠀⠀⠀⠈⣆⠀⠀⢧⢹⡄\n",
    "#⠀⣸⠀⢠⠀⠀⢸⡀⠀⠀⢻⡀⠀⢸⣿⣿⠀⠀⠀⠀⡼⣇⢸⣿⣿⠀⠀⠀⢀⠏⠀⠀⢸⠀⠇\n",
    "#⠀⠓⠈⢃⠀⠀⠀⡇⠀⠀⠀⣗⠦⣀⣿⡇⠀⣀⠤⠊⠀⠈⠺⢿⣃⣀⠤⠔⢸⠀⠀⠀⣼⠑⢼\n",
    "#⠀⠀⠀⢸⡀⣀⣾⣷⡀⠀⢸⣯⣦⡀⠀⠀⠀⢇⣀⣀⠐⠦⣀⠘⠀⠀⢀⣰⣿⣄⠀⠀⡟⠀⠀\n",
    "#⠀⠀⠀⠀⠛⠁⣿⣿⣧⠀⣿⣿⣿⣿⣦⣀⠀⠀⠀⠀⠀⠀⠀⣀⣠⣴⣿⣿⡿⠈⠢⣼⡇⠀⠀\n",
    "#⠀⠀⠀⠀⠀⠀⠈⠁⠈⠻⠈⢻⡿⠉⣿⠿⠛⡇⠒⠒⢲⠺⢿⣿⣿⠉⠻⡿⠁⠀⠀⠈⠁⠀⠀\n",
    "#⢀⠤⠒⠦⡀⠀⠀⠀⠀⠀⠀⠀⢀⠞⠉⠆⠀⠀⠉⠉⠉⠀⠀⡝⣍⠀⠀⠀⠀⠀⠀⠀⠀⠀⠀\n",
    "#⡎⠀⠀⠀⡇⠀⠀⠀⠀⠀⠀⡰⠋⠀⠀⢸⠀⠀⠀⠀⠀⠀⠀⢡⠈⢦⠀⠀⠀⠀⠀⠀⠀⠀⠀\n",
    "#⡇⠀⠀⠸⠁⠀⠀⠀⠀⢀⠜⠁⠀⠀⠀⡸⠀⠀⠀⠀⠀⠀⠀⠘⡄⠈⢳⡀⠀⠀⠀⠀⠀⠀⠀\n",
    "#⡇⠀⠀⢠⠀⠀⠀⠀⠠⣯⣀⠀⠀⠀⡰⡇⠀⠀⠀⠀⠀⠀⠀⠀⢣⠀⢀⡦⠤⢄⡀⠀⠀⠀⠀\n",
    "#⢱⡀⠀⠈⠳⢤⣠⠖⠋⠛⠛⢷⣄⢠⣷⠁⠀⠀⠀⠀⠀⠀⠀⠀⠘⡾⢳⠃⠀⠘⢇⠀⠀⠀\n",
    "#⠀⠙⢦⡀⠀⢠⠁⠀⠀⠀⠀⠀⠙⣿⣏⣀⠀⠀⠀⠀⠀⠀⠀⣀⣴⣧⡃⠀⠀⠀ ⠀⣸⠀⠀⠀\n",
    "#⠀⠀⠀⠈⠉⢺⣄⠀⠀⠀⠀⠀⠀⣿⣿⣿⣿⣿⣿⣿⣿⣿⣿⣿⣿⣿⣗⣤⣀⣠⡾⠃⠀⠀⠀\n",
    "#⠀⠀⠀⠀⠀⠀⠣⢅⡤⣀⣀⣠⣼⣿⣿⣿⣿⣿⣿⣿⣿⣿⣿⣿⣿⣿⣷⠉⠉⠉⠀⠀⠀⠀⠀\n",
    "#⠀⠀⠀⠀⠀⠀⠀⠀⠉⠉⠉⠁⠀⠉⣿⣿⣿⣿⣿⡿⠻⣿⣿⣿⣿⠛⠉⠀⠀⠀⠀⠀⠀⠀⠀\n",
    "#⠀⠀⠀⠀⠀⠀⠀⠀⠀⠀⠀⠀⠀⣸⣿⣿⣿⠀⠀⠀⠀⣿⣿⣿⡿⠀⠀⠀⠀⠀⠀⠀⠀⠀⠀\n",
    "#⠀⠀⠀⠀⠀⠀⠀⠀⠀⠀⠀⠀⣴⣿⣿⣿⣟⠀⠀⢠⣿⣿⣿⣿⣧⠀⠀⠀⠀⠀⠀⠀⠀⠀⠀\n",
    "#⠀⠀⠀⠀⠀⠀⠀⠀⠀⠀⠀⢰⣿⣿⣿⣿⣿⠀⠀⢸⣿⣿⣿⣿⣿⠀⠀⠀⠀⠀⠀⠀⠀⠀⠀\n",
    "#⠀⠀⠀⠀⠀⠀⠀⠀⠀⠀⠀⢸⣿⣿⣿⣿⡏⠀⠀⢸⣿⣿⣿⣿⣿⡀⠀⠀⠀⠀⠀⠀⠀⠀⠀\n",
    "#⠀⠀⠀⠀⠀⠀⠀⠀⠀⠀⢠⣿⣿⣿⣿⣿⠀⠀⠀⢺⣿⣿⣿⣿⣿⣿⣷⠀⠀⠀⠀⠀⠀⠀⠀\n",
    "#⠀⠀⠀⠀⠀⠀⠀⠀⠀⠀⣿⣿⣿⣿⣿⣿⠀⠀⠀⠀⠈⠉⠻⣿⣿⣿⠟⠀⠀⠀⠀⠀⠀⠀⠀\n",
    "#⠀⠀⠀⠀⠀⠀⠀⠀⠀⠀⠘⢿⣿⣿⣿⠏⠀⠀⠀⠀⠀⠀⠀⠀\n",
    "# \n",
    "\n",
    "\n",
    "import sys\n",
    "import os\n",
    "import sympy as sp\n",
    "import numpy as np\n",
    "\n",
    "# Add the correct path to the P2 folder\n",
    "sys.path.append(os.path.abspath(os.path.join(os.getcwd(), '..', '..')))\n",
    "\n",
    "from gauss_fehlerfortpflanzung import evaluate_gaussian_error\n",
    "from geraden_fit import geraden_fit\n",
    "from scientific_error_rounder import runden_und_speichern\n",
    "from mean_calc_w_err import err_weighted_mean\n",
    "\n"
   ]
  },
  {
   "cell_type": "code",
   "execution_count": 2,
   "metadata": {},
   "outputs": [
    {
     "name": "stdout",
     "output_type": "stream",
     "text": [
      "sqrt((del_I)**2 + (0)**2 + (0)**2 + (0)**2)\n",
      "sqrt((0)**2 + (del_U)**2 + (0)**2 + (0)**2)\n",
      "sqrt((0)**2 + (0)**2 + (del_R1_roh/200)**2 + (0)**2)\n",
      "sqrt((0)**2 + (0)**2 + (0)**2 + (del_R2_roh/200)**2)\n",
      "Zeile 1: [1.16, 0.01, 110.0, 1.0, 0.04125, 0.0025, 0.04025, 0.0025]\n",
      "Zeile 2: [1.16, 0.01, 125.0, 1.0, 0.0435, 0.0025, 0.0415, 0.0025]\n",
      "Zeile 3: [1.16, 0.01, 144.0, 1.0, 0.04625, 0.0025, 0.04475, 0.0025]\n",
      "Zeile 4: [1.16, 0.01, 168.0, 1.0, 0.04925, 0.0025, 0.04725, 0.0025]\n",
      "Zeile 5: [1.16, 0.01, 185.0, 1.0, 0.05275, 0.0025, 0.0495, 0.0025]\n",
      "Zeile 6: [1.16, 0.01, 210.0, 1.0, 0.0565, 0.0025, 0.05275, 0.0025]\n",
      "Zeile 7: [1.16, 0.01, 230.0, 1.0, 0.058, 0.0025, 0.05575, 0.0025]\n",
      "Zeile 8: [1.16, 0.01, 250.0, 1.0, 0.062, 0.0025, 0.05925, 0.0025]\n",
      "Zeile 9: [0.86, 0.01, 80.0, 1.0, 0.047, 0.0025, 0.044, 0.0025]\n",
      "Zeile 10: [1.14, 0.01, 59.0, 1.0, 0.03075, 0.0025, 0.02925, 0.0025]\n",
      "Auswertung abgeschlossen. Ergebnisse wurden in 'a_mess_nul.txt' gespeichert.\n"
     ]
    }
   ],
   "source": [
    "### Radien anpassen ###\n",
    "\n",
    "var_names=[I, U, R1_roh, R2_roh]=sp.symbols('I U R1_roh R2_roh')\n",
    "formula_list=[\n",
    "    I,\n",
    "    U,\n",
    "    (R1_roh - 3.05)/200,\n",
    "    (R2_roh - 3.05)/200\n",
    "    ]\n",
    "evaluate_gaussian_error('a_mess.txt',formulas=formula_list, variables=var_names, result_length=10,result_names=['I', 'U', 'R1', 'R2'], output_file_suffix= 'nul')"
   ]
  },
  {
   "cell_type": "code",
   "execution_count": 3,
   "metadata": {},
   "outputs": [
    {
     "name": "stdout",
     "output_type": "stream",
     "text": [
      "sqrt((0.000779286114163451*del_I*(R1 - R2)/(R1 + R2))**2 + (0)**2 + (del_R1*(-0.000779286114163451*I*(R1 - R2)/(R1 + R2)**2 + 0.000779286114163451*I/(R1 + R2)))**2 + (del_R2*(-0.000779286114163451*I*(R1 - R2)/(R1 + R2)**2 - 0.000779286114163451*I/(R1 + R2)))**2)\n",
      "Zeile 1: [1.10917e-05, 3.92181e-05]\n",
      "Zeile 2: [2.12699e-05, 3.76111e-05]\n",
      "Zeile 3: [1.49006e-05, 3.51261e-05]\n",
      "Zeile 4: [1.87352e-05, 3.31269e-05]\n",
      "Zeile 5: [2.87326e-05, 3.12737e-05]\n",
      "Zeile 6: [3.10288e-05, 2.92727e-05]\n",
      "Zeile 7: [1.78808e-05, 2.81028e-05]\n",
      "Zeile 8: [2.05025e-05, 2.63663e-05]\n",
      "Zeile 9: [2.2094e-05, 2.60535e-05]\n",
      "Zeile 10: [2.22097e-05, 5.23654e-05]\n",
      "Auswertung abgeschlossen. Ergebnisse wurden in 'a_mess_nul_Be.txt' gespeichert.\n"
     ]
    }
   ],
   "source": [
    "### Erdmagnetfeld bestimmen: ###\n",
    "\n",
    "# F = e (v * (B_s +- B_e))\n",
    "# -> a * (B_s +- B_e) = b * (1/r)\n",
    "# -> B_e = ((4/5)**(3/2)) * nue * (n / R_s) * I * ((R2 - R1) / (R2 + R1)) \n",
    "# &-> e/m = (2U) / ((r**2) * ((B_s + B_e)**2) )\n",
    "\n",
    "\n",
    "nue, n, R_s = 4 * np.pi * 10**(-7), 130, 0.15 # Variablen\n",
    "var_names=[I, U, R1, R2]=sp.symbols('I U R1 R2')\n",
    "formula_list=[((4/5)**(3/2)) * nue * (n / R_s) * I * ((R1 - R2) / (R2 + R1)),]\n",
    "        #2*U / ((R1**2) * ((I * ((R2 - R1) / (R2 + R1))**2)))) # B_e\n",
    "evaluate_gaussian_error('a_mess_nul.txt',formulas=formula_list, variables=var_names, result_length=10,result_names=['B_e'], output_file_suffix= 'Be')\n"
   ]
  },
  {
   "cell_type": "code",
   "execution_count": 4,
   "metadata": {},
   "outputs": [
    {
     "name": "stdout",
     "output_type": "stream",
     "text": [
      "mean(B_e), err(mean(B_e)):  (2.14e-05, 1.01e-05)\n"
     ]
    }
   ],
   "source": [
    "### Mittelwert B_e:\n",
    "\n",
    "print('mean(B_e), err(mean(B_e)): ', err_weighted_mean('a_mess_nul_Be.txt', result_length=7))\n"
   ]
  },
  {
   "cell_type": "code",
   "execution_count": 5,
   "metadata": {},
   "outputs": [
    {
     "name": "stdout",
     "output_type": "stream",
     "text": [
      "sqrt((-0.00311714445665381*U*del_I/(R1**2*(-B_e + 0.000779286114163451*I)**3))**2 + (2*del_U/(R1**2*(-B_e + 0.000779286114163451*I)**2))**2 + (-4*U*del_R1/(R1**3*(-B_e + 0.000779286114163451*I)**2))**2 + (0)**2 + (4*U*del_B_e/(R1**2*(-B_e + 0.000779286114163451*I)**3))**2)\n",
      "Zeile 1: [165987196811.3632, 20738918473.557438]\n",
      "Zeile 2: [169613849298.1751, 20148729867.11595]\n",
      "Zeile 3: [172849779236.14273, 19380221216.346504]\n",
      "Zeile 4: [177838842624.55826, 18802216168.153416]\n",
      "Zeile 5: [170709076031.54227, 16941912971.432602]\n",
      "Zeile 6: [168908774263.26654, 15745562299.067986]\n",
      "Zeile 7: [175550334023.6112, 15980127155.458956]\n",
      "Zeile 8: [166988452827.50876, 14321479617.929361]\n",
      "Zeile 9: [172076375329.32108, 19634872442.446404]\n",
      "Zeile 10: [166022682796.983, 27578051590.434677]\n",
      "Auswertung abgeschlossen. Ergebnisse wurden in 'a_mess_nul_Be_mean_sp_L.txt' gespeichert.\n"
     ]
    }
   ],
   "source": [
    "# B_s = ((4/5)**(3/2)) * nue * (n / R_s) * I \n",
    "# e/m = (2U) / ((r**2) * ((B_s + B_e)**2) )\n",
    "\n",
    "var_names=[I, U, R1, R2, B_e]=sp.symbols('I U R1 R2 B_e')\n",
    "formula_list=[(2 * U) / ((R1**2) * ((((4/5)**(3/2)) * nue * (n / R_s) * I - B_e)**2) )] # spezifische Ladung e/m\n",
    "evaluate_gaussian_error('a_mess_nul_Be_mean.txt',formulas=formula_list, variables=var_names, result_length=10,result_names=['e/m'], output_file_suffix= 'sp_L')\n"
   ]
  },
  {
   "cell_type": "code",
   "execution_count": 6,
   "metadata": {},
   "outputs": [
    {
     "name": "stdout",
     "output_type": "stream",
     "text": [
      "sqrt((0)**2 + (del_U)**2 + (0)**2 + (0)**2 + (0)**2)\n",
      "sqrt((8*I*R1**2*R2**2*del_I/(R1 + R2)**2)**2 + (0)**2 + (del_R1*(-8*I**2*R1**2*R2**2/(R1 + R2)**3 + 8*I**2*R1*R2**2/(R1 + R2)**2))**2 + (del_R2*(-8*I**2*R1**2*R2**2/(R1 + R2)**3 + 8*I**2*R1**2*R2/(R1 + R2)**2))**2 + (0)**2)\n",
      "Zeile 1: [110.0, 1.0, 0.0022337802, 0.0001977104]\n",
      "Zeile 2: [125.0, 1.0, 0.0024277995, 0.0002066964]\n",
      "Zeile 3: [144.0, 1.0, 0.0027842148, 0.000221836]\n",
      "Zeile 4: [168.0, 1.0, 0.0031299503, 0.000235995]\n",
      "Zeile 5: [185.0, 1.0, 0.0035099802, 0.0002511137]\n",
      "Zeile 6: [210.0, 1.0, 0.0040056675, 0.0002694837]\n",
      "Zeile 7: [230.0, 1.0, 0.0043492952, 0.0002809805]\n",
      "Zeile 8: [250.0, 1.0, 0.0049405189, 0.0003010181]\n",
      "Zeile 9: [80.0, 1.0, 0.0015278305, 0.0001244161]\n",
      "Zeile 10: [59.0, 1.0, 0.0011681784, 0.0001395287]\n",
      "Auswertung abgeschlossen. Ergebnisse wurden in 'a_mess_nul_Be_mean_U_geg_I_Rtheo.txt' gespeichert.\n"
     ]
    }
   ],
   "source": [
    "# B_s = ((4/5)**(3/2)) * nue * (n / R_s) * I \n",
    "# e/m = (2U) / ((r**2) * ((B_s + B_e)**2) )\n",
    "# r_theo = (2*R1*R2)/(R1 + R2)\n",
    "\n",
    "var_names=[I, U, R1, R2, B_e]=sp.symbols('I U R1 R2 B_e')\n",
    "formula_list=[U, (((2*R1*R2)/(R1 + R2))*I)**2] # spezifische Ladung e/m\n",
    "evaluate_gaussian_error('a_mess_nul_Be_mean.txt',formulas=formula_list, variables=var_names, result_length=10,result_names=['U', 'R_theo*I'], output_file_suffix= 'U_geg_I_Rtheo')\n",
    "\n"
   ]
  },
  {
   "cell_type": "code",
   "execution_count": 11,
   "metadata": {},
   "outputs": [
    {
     "name": "stdout",
     "output_type": "stream",
     "text": [
      "3.9.0\n"
     ]
    }
   ],
   "source": [
    "import matplotlib\n",
    "print(matplotlib.__version__)"
   ]
  },
  {
   "cell_type": "code",
   "execution_count": 7,
   "metadata": {},
   "outputs": [
    {
     "ename": "AttributeError",
     "evalue": "module 'matplotlib.cm' has no attribute 'get_cmap'",
     "output_type": "error",
     "traceback": [
      "\u001b[1;31m---------------------------------------------------------------------------\u001b[0m",
      "\u001b[1;31mAttributeError\u001b[0m                            Traceback (most recent call last)",
      "Cell \u001b[1;32mIn[7], line 1\u001b[0m\n\u001b[1;32m----> 1\u001b[0m \u001b[43mgeraden_fit\u001b[49m\u001b[43m(\u001b[49m\u001b[43mexp_nr\u001b[49m\u001b[38;5;241;43m=\u001b[39;49m\u001b[38;5;124;43m'\u001b[39;49m\u001b[38;5;124;43m'\u001b[39;49m\u001b[43m,\u001b[49m\n\u001b[0;32m      2\u001b[0m \u001b[43m            \u001b[49m\u001b[43mfile_n\u001b[49m\u001b[38;5;241;43m=\u001b[39;49m\u001b[43m \u001b[49m\u001b[38;5;124;43m'\u001b[39;49m\u001b[38;5;124;43ma_mess_nul_Be_mean_U_geg_I_Rtheo.txt\u001b[39;49m\u001b[38;5;124;43m'\u001b[39;49m\u001b[43m,\u001b[49m\n\u001b[0;32m      3\u001b[0m \u001b[43m            \u001b[49m\u001b[43mx_major_ticks\u001b[49m\u001b[38;5;241;43m=\u001b[39;49m\u001b[38;5;241;43m25\u001b[39;49m\u001b[43m,\u001b[49m\n\u001b[0;32m      4\u001b[0m \u001b[43m            \u001b[49m\u001b[43mx_minor_ticks\u001b[49m\u001b[38;5;241;43m=\u001b[39;49m\u001b[43m \u001b[49m\u001b[38;5;241;43m5\u001b[39;49m\u001b[43m,\u001b[49m\n\u001b[0;32m      5\u001b[0m \u001b[43m            \u001b[49m\u001b[43my_major_ticks\u001b[49m\u001b[38;5;241;43m=\u001b[39;49m\u001b[38;5;241;43m0.002\u001b[39;49m\u001b[43m,\u001b[49m\n\u001b[0;32m      6\u001b[0m \u001b[43m            \u001b[49m\u001b[43my_minor_ticks\u001b[49m\u001b[38;5;241;43m=\u001b[39;49m\u001b[38;5;241;43m0.0005\u001b[39;49m\u001b[43m,\u001b[49m\n\u001b[0;32m      7\u001b[0m \u001b[43m            \u001b[49m\u001b[43mx_decimal_places\u001b[49m\u001b[38;5;241;43m=\u001b[39;49m\u001b[38;5;241;43m0\u001b[39;49m\u001b[43m,\u001b[49m\n\u001b[0;32m      8\u001b[0m \u001b[43m            \u001b[49m\u001b[43my_decimal_places\u001b[49m\u001b[38;5;241;43m=\u001b[39;49m\u001b[38;5;241;43m3\u001b[39;49m\u001b[43m,\u001b[49m\n\u001b[0;32m      9\u001b[0m \u001b[43m            \u001b[49m\u001b[43mlinear_fit\u001b[49m\u001b[38;5;241;43m=\u001b[39;49m\u001b[38;5;28;43;01mTrue\u001b[39;49;00m\u001b[43m,\u001b[49m\n\u001b[0;32m     10\u001b[0m \u001b[43m            \u001b[49m\u001b[43mfocus_point\u001b[49m\u001b[38;5;241;43m=\u001b[39;49m\u001b[38;5;28;43;01mTrue\u001b[39;49;00m\u001b[43m,\u001b[49m\n\u001b[0;32m     11\u001b[0m \u001b[43m            \u001b[49m\u001b[43mplot_y_inter\u001b[49m\u001b[38;5;241;43m=\u001b[39;49m\u001b[38;5;28;43;01mTrue\u001b[39;49;00m\u001b[43m,\u001b[49m\n\u001b[0;32m     12\u001b[0m \u001b[43m            \u001b[49m\u001b[43mtitle\u001b[49m\u001b[38;5;241;43m=\u001b[39;49m\u001b[38;5;124;43mr\u001b[39;49m\u001b[38;5;124;43m'\u001b[39;49m\u001b[38;5;124;43mAbb. 1: $U$  geg $(I*r_\u001b[39;49m\u001b[38;5;132;43;01m{theo}\u001b[39;49;00m\u001b[38;5;124;43m)^2$\u001b[39;49m\u001b[38;5;124;43m'\u001b[39;49m\u001b[43m,\u001b[49m\n\u001b[0;32m     13\u001b[0m \u001b[43m            \u001b[49m\u001b[43mx_label\u001b[49m\u001b[38;5;241;43m=\u001b[39;49m\u001b[38;5;124;43mf\u001b[39;49m\u001b[38;5;124;43m'\u001b[39;49m\u001b[38;5;124;43m$U$ [$V$]\u001b[39;49m\u001b[38;5;124;43m'\u001b[39;49m\u001b[43m,\u001b[49m\n\u001b[0;32m     14\u001b[0m \u001b[43m            \u001b[49m\u001b[43my_label\u001b[49m\u001b[38;5;241;43m=\u001b[39;49m\u001b[38;5;124;43mr\u001b[39;49m\u001b[38;5;124;43m'\u001b[39;49m\u001b[38;5;124;43m$(I \u001b[39;49m\u001b[38;5;124;43m\\\u001b[39;49m\u001b[38;5;124;43mcdot r_\u001b[39;49m\u001b[38;5;132;43;01m{theo}\u001b[39;49;00m\u001b[38;5;124;43m)^2$ [$A \u001b[39;49m\u001b[38;5;124;43m\\\u001b[39;49m\u001b[38;5;124;43mcdot m]$\u001b[39;49m\u001b[38;5;124;43m'\u001b[39;49m\u001b[43m,\u001b[49m\n\u001b[0;32m     15\u001b[0m \u001b[43m            \u001b[49m\u001b[43msave\u001b[49m\u001b[38;5;241;43m=\u001b[39;49m\u001b[38;5;28;43;01mTrue\u001b[39;49;00m\u001b[43m,\u001b[49m\n\u001b[0;32m     16\u001b[0m \u001b[43m            \u001b[49m\u001b[43m)\u001b[49m\n",
      "File \u001b[1;32mt:\\Uni\\P2 tatrik\\P2\\geraden_fit.py:158\u001b[0m, in \u001b[0;36mgeraden_fit\u001b[1;34m(exp_nr, file_n, title, x_label, y_label, save, length, height, x_axis, y_axis, result_length, x_major_ticks, x_minor_ticks, y_major_ticks, y_minor_ticks, legendlocation, y_labels, y_markers, y_colors, x_decimal_places, y_decimal_places, Ursprungsgerade, custom_datavol_limiter, linear_fit, focus_point, plot_y_inter, y_inter_label, x_shift, y_shift)\u001b[0m\n\u001b[0;32m    156\u001b[0m     y_markers \u001b[38;5;241m=\u001b[39m [\u001b[38;5;124m'\u001b[39m\u001b[38;5;124mo\u001b[39m\u001b[38;5;124m'\u001b[39m, \u001b[38;5;124m'\u001b[39m\u001b[38;5;124ms\u001b[39m\u001b[38;5;124m'\u001b[39m, \u001b[38;5;124m'\u001b[39m\u001b[38;5;124mD\u001b[39m\u001b[38;5;124m'\u001b[39m, \u001b[38;5;124m'\u001b[39m\u001b[38;5;124m^\u001b[39m\u001b[38;5;124m'\u001b[39m, \u001b[38;5;124m'\u001b[39m\u001b[38;5;124mv\u001b[39m\u001b[38;5;124m'\u001b[39m, \u001b[38;5;124m'\u001b[39m\u001b[38;5;124m<\u001b[39m\u001b[38;5;124m'\u001b[39m, \u001b[38;5;124m'\u001b[39m\u001b[38;5;124m>\u001b[39m\u001b[38;5;124m'\u001b[39m, \u001b[38;5;124m'\u001b[39m\u001b[38;5;124mp\u001b[39m\u001b[38;5;124m'\u001b[39m, \u001b[38;5;124m'\u001b[39m\u001b[38;5;124m*\u001b[39m\u001b[38;5;124m'\u001b[39m, \u001b[38;5;124m'\u001b[39m\u001b[38;5;124mh\u001b[39m\u001b[38;5;124m'\u001b[39m, \u001b[38;5;124m'\u001b[39m\u001b[38;5;124m+\u001b[39m\u001b[38;5;124m'\u001b[39m, \u001b[38;5;124m'\u001b[39m\u001b[38;5;124mx\u001b[39m\u001b[38;5;124m'\u001b[39m, \u001b[38;5;124m'\u001b[39m\u001b[38;5;124md\u001b[39m\u001b[38;5;124m'\u001b[39m]\n\u001b[0;32m    157\u001b[0m \u001b[38;5;28;01mif\u001b[39;00m y_colors \u001b[38;5;129;01mis\u001b[39;00m \u001b[38;5;28;01mNone\u001b[39;00m:\n\u001b[1;32m--> 158\u001b[0m     cmap \u001b[38;5;241m=\u001b[39m \u001b[43mplt\u001b[49m\u001b[38;5;241;43m.\u001b[39;49m\u001b[43mcm\u001b[49m\u001b[38;5;241;43m.\u001b[39;49m\u001b[43mget_cmap\u001b[49m(\u001b[38;5;124m'\u001b[39m\u001b[38;5;124mtab10\u001b[39m\u001b[38;5;124m'\u001b[39m)\n\u001b[0;32m    159\u001b[0m     y_colors \u001b[38;5;241m=\u001b[39m [cmap(i) \u001b[38;5;28;01mfor\u001b[39;00m i \u001b[38;5;129;01min\u001b[39;00m \u001b[38;5;28mrange\u001b[39m(n_datasets)]\n\u001b[0;32m    161\u001b[0m fig, ax \u001b[38;5;241m=\u001b[39m plt\u001b[38;5;241m.\u001b[39msubplots(figsize\u001b[38;5;241m=\u001b[39m(length, height))\n",
      "\u001b[1;31mAttributeError\u001b[0m: module 'matplotlib.cm' has no attribute 'get_cmap'"
     ]
    }
   ],
   "source": [
    "geraden_fit(exp_nr='',\n",
    "            file_n= 'a_mess_nul_Be_mean_U_geg_I_Rtheo.txt',\n",
    "            x_major_ticks=25,\n",
    "            x_minor_ticks= 5,\n",
    "            y_major_ticks=0.002,\n",
    "            y_minor_ticks=0.0005,\n",
    "            x_decimal_places=0,\n",
    "            y_decimal_places=3,\n",
    "            linear_fit=True,\n",
    "            focus_point=True,\n",
    "            plot_y_inter=True,\n",
    "            title=r'Abb. 1: $U$  geg $(I*r_{theo})^2$',\n",
    "            x_label=f'$U$ [$V$]',\n",
    "            y_label=r'$(I \\cdot r_{theo})^2$ [$A \\cdot m]$',\n",
    "            save=True,\n",
    "            )"
   ]
  },
  {
   "cell_type": "code",
   "execution_count": 12,
   "metadata": {},
   "outputs": [
    {
     "name": "stdout",
     "output_type": "stream",
     "text": [
      "e/m: 173333505061.99078\n",
      "err_e/m: 10947379267.073101\n"
     ]
    }
   ],
   "source": [
    "# e/m = (2U) / ((r_theo**2) * ((B_theo)**2)) = (2U) / ((r_theo**2) * (((4/5)**(3/2)) * nue * (n / R_s))**2) * (I**2) ) )\n",
    "# (r_theo * I)**2 = U * (2/((e/m)*((((4/5)**(3/2)) * nue * (n / R_s))**2))) = U * m_steig\n",
    "# (e/m) = (2/(m_steig*((((4/5)**(3/2)) * nue * (n / R_s))**2)))\n",
    "\n",
    "U = 250\n",
    "m_steig = 0.0000190\n",
    "nue, n, R_s = 4 * np.pi * 10**(-7), 130, 0.15 # Variablen\n",
    "print('e/m:', (2/(m_steig*((((4/5)**(3/2)) * nue * (n / R_s))**2))))\n",
    "print('err_e/m:', (2/(m_steig ** 2 *((((4/5)**(3/2)) * nue * (n / R_s))**2))) * 0.0000012)\n"
   ]
  }
 ],
 "metadata": {
  "kernelspec": {
   "display_name": "Python 3",
   "language": "python",
   "name": "python3"
  },
  "language_info": {
   "codemirror_mode": {
    "name": "ipython",
    "version": 3
   },
   "file_extension": ".py",
   "mimetype": "text/x-python",
   "name": "python",
   "nbconvert_exporter": "python",
   "pygments_lexer": "ipython3",
   "version": "3.12.3"
  }
 },
 "nbformat": 4,
 "nbformat_minor": 2
}
