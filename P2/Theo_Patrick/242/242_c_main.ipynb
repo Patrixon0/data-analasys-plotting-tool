{
 "cells": [
  {
   "cell_type": "code",
   "execution_count": null,
   "metadata": {},
   "outputs": [],
   "source": [
    "import sys\n",
    "import os\n",
    "import sympy as sp\n",
    "import numpy as np\n",
    "\n",
    "# Add the correct path to the P2 folder\n",
    "sys.path.append(os.path.abspath(os.path.join(os.getcwd(), '..', '..')))\n",
    "\n",
    "from gauss_fehlerfortpflanzung import evaluate_gaussian_error\n",
    "from geraden_fit import geraden_fit\n",
    "from scientific_error_rounder import runden_und_speichern\n",
    "from mean_calc_w_err import err_weighted_mean"
   ]
  },
  {
   "cell_type": "code",
   "execution_count": null,
   "metadata": {},
   "outputs": [],
   "source": []
  }
 ],
 "metadata": {
  "kernelspec": {
   "display_name": "Python 3",
   "language": "python",
   "name": "python3"
  },
  "language_info": {
   "name": "python",
   "version": "3.11.2"
  }
 },
 "nbformat": 4,
 "nbformat_minor": 2
}
