{
 "cells": [
  {
   "cell_type": "code",
   "execution_count": 1,
   "metadata": {},
   "outputs": [],
   "source": [
    "import sys\n",
    "import os\n",
    "import sympy as sp\n",
    "import numpy as np\n",
    "\n",
    "# Add the correct path to the P2 folder\n",
    "sys.path.append(os.path.abspath(os.path.join(os.getcwd(), '..', '..')))\n",
    "\n",
    "from gauss_fehlerfortpflanzung import evaluate_gaussian_error, gaussian_error_propagation\n",
    "from geraden_fit import geraden_fit\n",
    "from scientific_error_rounder import runden_und_speichern"
   ]
  },
  {
   "cell_type": "code",
   "execution_count": 2,
   "metadata": {},
   "outputs": [
    {
     "name": "stdout",
     "output_type": "stream",
     "text": [
      "sqrt((0)**2 + (del_b*(c + 2/b))**2 + (b*del_c)**2 + (0)**2 + (0)**2)\n",
      "sqrt((0)**2 + (0)**2 + (d*del_c)**2 + (c*del_d)**2 + (0)**2)\n",
      "Zeile 1: [7.7251, 0.0356, 0.0, 0.0]\n",
      "Zeile 2: [7.7244, 0.0357, 0.0, 0.0]\n",
      "Zeile 3: [7.723, 0.0339, 0.0, 0.0]\n",
      "Zeile 4: [7.721, 0.0324, 0.0, 0.0]\n",
      "Zeile 5: [7.7223, 0.0293, 0.0, 0.0]\n",
      "Zeile 6: [7.7256, 0.0261, 0.0, 0.0]\n",
      "Zeile 7: [7.7243, 0.0224, 0.0, 0.0]\n",
      "Zeile 8: [7.7266, 0.0182, 0.0, 0.0]\n",
      "Zeile 9: [7.7287, 0.0116, 0.0, 0.0]\n",
      "Zeile 10: [7.7331, 0.0051, 0.0, 0.0]\n",
      "Zeile 11: [7.7325, 0.0015, 0.0, 0.0]\n",
      "Zeile 12: [7.7325, 0.0015, 0.0, 0.0]\n",
      "Zeile 13: [7.7325, 0.0015, 0.0, 0.0]\n",
      "Zeile 14: [7.7325, 0.0015, 0.0, 0.0]\n",
      "Zeile 15: [7.7325, 0.0015, 0.0, 0.0]\n",
      "Zeile 16: [7.7325, 0.0015, 0.0, 0.0]\n",
      "Auswertung abgeschlossen. Ergebnisse wurden in 'Jannis_cool_a_results.txt' gespeichert.\n"
     ]
    }
   ],
   "source": [
    "import sympy as sp\n",
    "var_names=[a,b,c,d,e]=sp.symbols('a b c d e')\n",
    "formula=((b*c+sp.ln(b**2)),(d*c))\n",
    "evaluate_gaussian_error('Jannis_cool_a.txt',formulas=formula, variables=var_names,result_names=('alpha','beta'))"
   ]
  }
 ],
 "metadata": {
  "kernelspec": {
   "display_name": "Python 3",
   "language": "python",
   "name": "python3"
  },
  "language_info": {
   "codemirror_mode": {
    "name": "ipython",
    "version": 3
   },
   "file_extension": ".py",
   "mimetype": "text/x-python",
   "name": "python",
   "nbconvert_exporter": "python",
   "pygments_lexer": "ipython3",
   "version": "3.12.7"
  }
 },
 "nbformat": 4,
 "nbformat_minor": 2
}
