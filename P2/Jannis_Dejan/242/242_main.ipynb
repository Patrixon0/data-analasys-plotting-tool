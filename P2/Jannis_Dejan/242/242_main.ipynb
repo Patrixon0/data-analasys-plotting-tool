{
 "cells": [
  {
   "cell_type": "code",
   "execution_count": null,
   "metadata": {},
   "outputs": [],
   "source": [
    "import sys\n",
    "import os\n",
    "import sympy as sp\n",
    "import numpy as np\n",
    "\n",
    "# Add the correct path to the P2 folder\n",
    "sys.path.append(os.path.abspath(os.path.join(os.getcwd(), '..', '..')))\n",
    "\n",
    "from gauss_fehlerfortpflanzung import evaluate_gaussian_error\n",
    "from gauss_fehlerfortpflanzung import gaussian_error_propagation\n",
    "from geraden_fit import geraden_fit\n",
    "from scientific_error_rounder import runden_und_speichern\n",
    "\n"
   ]
  },
  {
   "cell_type": "code",
   "execution_count": 20,
   "metadata": {},
   "outputs": [
    {
     "name": "stdout",
     "output_type": "stream",
     "text": [
      "Zeile 1: [0.5928, 26.2774, 0.0, 0.0]\n",
      "Zeile 2: [0.5928, 29.8965, 0.0, 0.0]\n",
      "Zeile 3: [0.5928, 37.422, 0.0, 0.0]\n",
      "Zeile 4: [0.5928, 39.5758, 0.0, 0.0]\n",
      "Zeile 5: [0.5928, 41.2351, 0.0, 0.0]\n",
      "Zeile 6: [0.5928, 40.6087, 0.0, 0.0]\n",
      "Zeile 7: [0.5928, 37.6246, 0.0, 0.0]\n",
      "Zeile 8: [0.5928, 32.6772, 0.0, 0.0]\n",
      "Zeile 9: [0.5928, 22.1443, 0.0, 0.0]\n",
      "Zeile 10: [0.5928, 10.146, 0.0, 0.0]\n",
      "Zeile 11: [0.5928, 3.1506, 0.0, 0.0]\n",
      "Zeile 12: [0.5928, 3.1506, 0.0, 0.0]\n",
      "Zeile 13: [0.5928, 3.1506, 0.0, 0.0]\n",
      "Zeile 14: [0.5928, 3.1506, 0.0, 0.0]\n",
      "Zeile 15: [0.5928, 3.1506, 0.0, 0.0]\n",
      "Zeile 16: [0.5928, 3.1506, 0.0, 0.0]\n",
      "Auswertung abgeschlossen. Ergebnisse wurden in 'Jannis_cool_a_results.txt' gespeichert.\n"
     ]
    }
   ],
   "source": [
    "var_names=[a,b,c,d,e]=sp.symbols('a b c d e')\n",
    "formula=((b*c+sp.ln(d**2)),(d*c))\n",
    "evaluate_gaussian_error('Jannis_cool_a.txt',formulas=formula, variables=var_names,result_names=('alpha','beta'))"
   ]
  }
 ],
 "metadata": {
  "kernelspec": {
   "display_name": "Python 3",
   "language": "python",
   "name": "python3"
  },
  "language_info": {
   "codemirror_mode": {
    "name": "ipython",
    "version": 3
   },
   "file_extension": ".py",
   "mimetype": "text/x-python",
   "name": "python",
   "nbconvert_exporter": "python",
   "pygments_lexer": "ipython3",
   "version": "3.12.7"
  }
 },
 "nbformat": 4,
 "nbformat_minor": 2
}
